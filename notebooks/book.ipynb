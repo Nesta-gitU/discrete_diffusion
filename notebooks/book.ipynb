{
 "cells": [
  {
   "cell_type": "code",
   "execution_count": 11,
   "metadata": {},
   "outputs": [
    {
     "name": "stdout",
     "output_type": "stream",
     "text": [
      "torch.Size([2, 4])\n",
      "tensor:\n",
      "tensor([[[ 141.2151, -152.0132, -181.6751],\n",
      "         [  49.9806, -151.2866,  -31.6955],\n",
      "         [-113.1871,  144.5193,   70.9442],\n",
      "         [-197.9320,  214.9752,   86.1488]],\n",
      "\n",
      "        [[  56.5941,  -42.3545,  -74.8166],\n",
      "         [ -76.1951,  107.5206,  247.5702],\n",
      "         [  23.5869,  102.2235,  -21.7183],\n",
      "         [  46.3556,   13.6169,   67.6697]]]) \n",
      "\n",
      "masked:\n",
      "tensor([[[ 141.2151, -152.0132, -181.6751],\n",
      "         [   0.0000,   -0.0000,   -0.0000],\n",
      "         [-113.1871,  144.5193,   70.9442],\n",
      "         [  -0.0000,    0.0000,    0.0000]],\n",
      "\n",
      "        [[   0.0000,   -0.0000,   -0.0000],\n",
      "         [ -76.1951,  107.5206,  247.5702],\n",
      "         [   0.0000,    0.0000,   -0.0000],\n",
      "         [  46.3556,   13.6169,   67.6697]]])\n",
      "mask:\n",
      "tensor([[[ True,  True,  True],\n",
      "         [False, False, False],\n",
      "         [ True,  True,  True],\n",
      "         [False, False, False]],\n",
      "\n",
      "        [[False, False, False],\n",
      "         [ True,  True,  True],\n",
      "         [False, False, False],\n",
      "         [ True,  True,  True]]])\n",
      "0\n",
      "4000\n"
     ]
    }
   ],
   "source": [
    "import torch\n",
    "\n",
    "# Example tensor and mask\n",
    "bs, block_size, embedding_dim = 2, 4, 3\n",
    "tensor = torch.randn(bs, block_size, embedding_dim) * 100  # Shape: [bs, block_size, embedding_dim]\n",
    "mask = torch.tensor([[True, False, True, False],    # Shape: [bs, block_size]\n",
    "                     [False, True, False, True]])\n",
    "print(mask.shape)\n",
    "\n",
    "# Expand the mask to match the last dimension\n",
    "mask_expanded = mask.unsqueeze(-1).expand(-1, -1, tensor.shape[2])  # Shape: [bs, block_size, embedding_dim]\n",
    "\n",
    "# Zero out embeddings where mask is True\n",
    "masked_tensor = tensor * mask_expanded\n",
    "print(\"tensor:\")\n",
    "print(tensor, \"\\n\")\n",
    "print(\"masked:\")\n",
    "print(masked_tensor)\n",
    "print(\"mask:\")\n",
    "print(mask_expanded)\n",
    "print(4000 * False)\n",
    "print(4000 * True)"
   ]
  }
 ],
 "metadata": {
  "language_info": {
   "name": "python"
  }
 },
 "nbformat": 4,
 "nbformat_minor": 2
}
