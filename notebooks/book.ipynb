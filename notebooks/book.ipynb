{
 "cells": [
  {
   "cell_type": "code",
   "execution_count": 11,
   "metadata": {},
   "outputs": [
    {
     "name": "stdout",
     "output_type": "stream",
     "text": [
      "torch.Size([2, 4])\n",
      "tensor:\n",
      "tensor([[[ 141.2151, -152.0132, -181.6751],\n",
      "         [  49.9806, -151.2866,  -31.6955],\n",
      "         [-113.1871,  144.5193,   70.9442],\n",
      "         [-197.9320,  214.9752,   86.1488]],\n",
      "\n",
      "        [[  56.5941,  -42.3545,  -74.8166],\n",
      "         [ -76.1951,  107.5206,  247.5702],\n",
      "         [  23.5869,  102.2235,  -21.7183],\n",
      "         [  46.3556,   13.6169,   67.6697]]]) \n",
      "\n",
      "masked:\n",
      "tensor([[[ 141.2151, -152.0132, -181.6751],\n",
      "         [   0.0000,   -0.0000,   -0.0000],\n",
      "         [-113.1871,  144.5193,   70.9442],\n",
      "         [  -0.0000,    0.0000,    0.0000]],\n",
      "\n",
      "        [[   0.0000,   -0.0000,   -0.0000],\n",
      "         [ -76.1951,  107.5206,  247.5702],\n",
      "         [   0.0000,    0.0000,   -0.0000],\n",
      "         [  46.3556,   13.6169,   67.6697]]])\n",
      "mask:\n",
      "tensor([[[ True,  True,  True],\n",
      "         [False, False, False],\n",
      "         [ True,  True,  True],\n",
      "         [False, False, False]],\n",
      "\n",
      "        [[False, False, False],\n",
      "         [ True,  True,  True],\n",
      "         [False, False, False],\n",
      "         [ True,  True,  True]]])\n",
      "0\n",
      "4000\n"
     ]
    }
   ],
   "source": [
    "import torch\n",
    "\n",
    "# Example tensor and mask\n",
    "bs, block_size, embedding_dim = 2, 4, 3\n",
    "tensor = torch.randn(bs, block_size, embedding_dim) * 100  # Shape: [bs, block_size, embedding_dim]\n",
    "mask = torch.tensor([[True, False, True, False],    # Shape: [bs, block_size]\n",
    "                     [False, True, False, True]])\n",
    "print(mask.shape)\n",
    "\n",
    "# Expand the mask to match the last dimension\n",
    "mask_expanded = mask.unsqueeze(-1).expand(-1, -1, tensor.shape[2])  # Shape: [bs, block_size, embedding_dim]\n",
    "\n",
    "# Zero out embeddings where mask is True\n",
    "masked_tensor = tensor * mask_expanded\n",
    "print(\"tensor:\")\n",
    "print(tensor, \"\\n\")\n",
    "print(\"masked:\")\n",
    "print(masked_tensor)\n",
    "print(\"mask:\")\n",
    "print(mask_expanded)\n",
    "print(4000 * False)\n",
    "print(4000 * True)"
   ]
  },
  {
   "cell_type": "code",
   "execution_count": null,
   "metadata": {},
   "outputs": [],
   "source": [
    "import torch \n",
    "\n",
    "class test(torch.nn.Module):\n",
    "    def __init__(self, vocab_size, in_channels):\n",
    "        super(test, self).__init__()\n",
    "        self.word_embedding = nn.Embedding(vocab_size, in_channels)\n",
    "    \n",
    "    def forward(self, x):\n",
    "        return self.word_embedding(x)\n",
    "\n",
    "\n",
    "#create test module\n",
    "vocab_size = 1000\n",
    "in_channels = 128\n",
    "model = test(vocab_size, in_channels)\n",
    "\n",
    "# Create a random input tensor\n",
    "input_tensor = torch.randint(0, vocab_size, (64, 64))  # Shape: [bs, block_size]\n",
    "print(input_tensor[0])\n",
    "\n",
    "# Pass the input tensor through the model\n",
    "output_tensor = model(input_tensor)  # Shape: [bs, block_size, in_channels]\n",
    "\n",
    "# get the prior loss\n"
   ]
  },
  {
   "cell_type": "code",
   "execution_count": null,
   "metadata": {},
   "outputs": [
    {
     "name": "stdout",
     "output_type": "stream",
     "text": [
      "tensor([0.0000, 0.0101, 0.0202, 0.0303, 0.0404, 0.0505, 0.0606, 0.0707, 0.0808,\n",
      "        0.0909, 0.1010, 0.1111, 0.1212, 0.1313, 0.1414, 0.1515, 0.1616, 0.1717,\n",
      "        0.1818, 0.1919, 0.2020, 0.2121, 0.2222, 0.2323, 0.2424, 0.2525, 0.2626,\n",
      "        0.2727, 0.2828, 0.2929, 0.3030, 0.3131, 0.3232, 0.3333, 0.3434, 0.3535,\n",
      "        0.3636, 0.3737, 0.3838, 0.3939, 0.4040, 0.4141, 0.4242, 0.4343, 0.4444,\n",
      "        0.4545, 0.4646, 0.4747, 0.4848, 0.4949, 0.5051, 0.5152, 0.5253, 0.5354,\n",
      "        0.5455, 0.5556, 0.5657, 0.5758, 0.5859, 0.5960, 0.6061, 0.6162, 0.6263,\n",
      "        0.6364, 0.6465, 0.6566, 0.6667, 0.6768, 0.6869, 0.6970, 0.7071, 0.7172,\n",
      "        0.7273, 0.7374, 0.7475, 0.7576, 0.7677, 0.7778, 0.7879, 0.7980, 0.8081,\n",
      "        0.8182, 0.8283, 0.8384, 0.8485, 0.8586, 0.8687, 0.8788, 0.8889, 0.8990,\n",
      "        0.9091, 0.9192, 0.9293, 0.9394, 0.9495, 0.9596, 0.9697, 0.9798, 0.9899,\n",
      "        1.0000])\n"
     ]
    }
   ],
   "source": [
    "import torch\n",
    "t_points = torch.linspace(0, 1, 100)\n",
    "print(t_points) #it includes 1..... which means that somehow it gets a loss of 0 at t=1 but it shouldnt!"
   ]
  }
 ],
 "metadata": {
  "language_info": {
   "name": "python"
  }
 },
 "nbformat": 4,
 "nbformat_minor": 2
}
