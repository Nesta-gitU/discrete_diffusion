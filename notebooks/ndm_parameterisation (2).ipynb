{
 "cells": [
  {
   "cell_type": "markdown",
   "id": "97d5c0b7-0286-4010-80cf-602f88b930bb",
   "metadata": {},
   "source": [
    "# Reweighted loss functions for the neural flow diffusion model"
   ]
  },
  {
   "cell_type": "markdown",
   "id": "88194bd2-3260-478f-9ebf-43524f23b8c3",
   "metadata": {},
   "source": [
    "## Variational diffusion models"
   ]
  },
  {
   "cell_type": "markdown",
   "id": "2b480d1c-c11b-44c4-9862-5c15b12cd820",
   "metadata": {},
   "source": [
    "### Definition of the forward process\n",
    "\n",
    "Let's define the forward process\n",
    "\n",
    "\\begin{align}\n",
    "    z = \\alpha x + \\sigma \\varepsilon,\n",
    "    \\quad \\text{where} \\quad\n",
    "    \\alpha^2 + \\sigma^2 = 1\n",
    "\\end{align}\n",
    "\n",
    "Then we have the following connections:\n",
    "\n",
    "\\begin{align}\n",
    "    x = \\frac{z - \\sigma \\varepsilon}{\\alpha}\n",
    "    \\quad \\text{and} \\quad\n",
    "    \\varepsilon = \\frac{z - \\alpha x}{\\sigma}\n",
    "\\end{align}"
   ]
  },
  {
   "cell_type": "markdown",
   "id": "3f0acfc7-2fcd-4f5c-8ce6-acb65d6fc807",
   "metadata": {},
   "source": [
    "### Signal-To-Noise Ratio (SNR)\n",
    "\n",
    "Introduce the Signal-To-Noise Ratio (SNR)\n",
    "\n",
    "\\begin{align}\n",
    "    SNR = \\frac{\\alpha^2}{\\sigma^2}\n",
    "\\end{align}\n",
    "\n",
    "Reparametrization through the gamma function\n",
    "\n",
    "\\begin{align}\n",
    "    SNR = e^{-\\gamma}\n",
    "\\end{align}\n",
    "\n",
    "Then we can rewrite the $\\alpha$ and $\\sigma$ coefficients in terms of the gamma function\n",
    "\n",
    "\\begin{align}\n",
    "    SNR = \\frac{\\alpha^2}{1 - \\alpha^2} = e^{-\\gamma}\n",
    "    \\quad \\Rightarrow \\quad\n",
    "    \\alpha^2 &= \\frac{e^{-\\gamma}}{1 + e^{-\\gamma}} = \\frac{1}{1 + e^{\\gamma}} = \\sigma(-\\gamma) \\\\\n",
    "    \\sigma^2 &= 1 - \\alpha^2 = \\frac{1}{1 + e^{-\\gamma}} = \\sigma(\\gamma)\n",
    "\\end{align}"
   ]
  },
  {
   "cell_type": "markdown",
   "id": "70e88cbe-684b-44a7-81f8-35d5ac45021f",
   "metadata": {},
   "source": [
    "### Conditional ODE and SDEs\n",
    "\n",
    "The conditional ODE is\n",
    "\n",
    "\\begin{align}\n",
    "    f = \\dot{\\alpha} x + \\dot{\\sigma} \\varepsilon = \\dot{\\alpha} x + \\frac{\\dot{\\sigma}}{\\sigma} (z - \\alpha x)\n",
    "\\end{align}\n",
    "\n",
    "The conditional score function is\n",
    "\n",
    "\\begin{align}\n",
    "    s = - \\frac{\\varepsilon}{\\sigma} = \\frac{\\alpha x - z}{\\sigma^2}\n",
    "\\end{align}\n",
    "\n",
    "Combining the drift of the ODE $f$ and the score function $s$ with the volatility $g$ we can write down the conditional forward SDE\n",
    "\n",
    "\\begin{align}\n",
    "    d z = f^F d t + g d w, \\quad \\text{where} \\quad f^F = f + \\frac{g^2}{2} s\n",
    "\\end{align}\n",
    "\n",
    "Similarly, we can write down the conditional backward SDE\n",
    "\n",
    "\\begin{align}\n",
    "    d z = f^B d t + g d \\bar{w}, \\quad \\text{where} \\quad f^B = f - \\frac{g^2}{2} s\n",
    "\\end{align}"
   ]
  },
  {
   "cell_type": "markdown",
   "id": "58b03f8a-f1d1-4624-95c5-22b4d1b84a1b",
   "metadata": {},
   "source": [
    "### Derivation of the volatility\n",
    "\n",
    "In general, the volatility $g$ can be an arbitrary function of time $t$. However, there is one useful consideration that can help us parameterise in a more efficient way.\n",
    "\n",
    "\n",
    "In diffusion models, we aim to match the distribution of trajectories of the forward and reversed processes. The reverse process is Markovian by design. Therefore, to be able to match the distributions of trajectories, the forward process should also be Markovian. TO guaranry this, we can find such a volatility $g$ that makes the forward process independent on $x$.\n",
    "\n",
    "I don't know how to derive $g$ analytically in general case, but we can do it in case of the VDM.\n",
    "\n",
    "\\begin{align}\n",
    "    f^F\n",
    "    &= f + \\frac{g^2}{2} s \\\\\n",
    "    &= \\dot{\\alpha} x + \\frac{\\dot{\\sigma}}{\\sigma} (z - \\alpha x) + \\frac{g^2}{2} \\frac{\\alpha x - z}{\\sigma^2} \\\\\n",
    "    &= \\underbrace{ \\left( \\dot{\\alpha} - \\frac{\\dot{\\sigma}}{\\sigma} \\alpha + \\frac{g^2}{2} \\frac{\\alpha}{\\sigma^2} \\right) }_{=0} x + \\left( \\frac{\\dot{\\sigma}}{\\sigma} - \\frac{g^2}{2} \\frac{1}{\\sigma^2} \\right) z \\\\\n",
    "\\end{align}\n",
    "\n",
    "That gives us the expression for the volatility\n",
    "\n",
    "\\begin{align}\n",
    "    g^2\n",
    "    &= 2 \\frac{\\sigma^2}{\\alpha} \\left( \\frac{\\dot{\\sigma}}{\\sigma} \\alpha - \\dot{\\alpha} \\right) \\\\\n",
    "    &= 2 \\sigma \\dot{\\sigma} - 2 \\sigma^2 \\frac{\\dot{\\alpha}}{\\alpha} \\\\\n",
    "    &= (\\sigma^2)' - 2 (\\log \\alpha)' \\sigma^2\n",
    "\\end{align}\n",
    "\n",
    "We can also rewrite the volatility in terms of the gamma function\n",
    "\n",
    "\\begin{align}\n",
    "    g^2\n",
    "    &= (\\sigma^2)' - 2 (\\log \\alpha)' \\sigma^2 \\\\\n",
    "    &= (\\sigma^2)' - \\frac{2 \\alpha \\dot{\\alpha}}{\\alpha^2} \\sigma^2 \\\\\n",
    "    &= (\\sigma(\\gamma))' - \\frac{(\\sigma(-\\gamma))'}{\\sigma(-\\gamma)} \\sigma(\\gamma) \\\\\n",
    "    &= \\sigma(\\gamma) \\left( 1 - \\sigma(\\gamma) \\right) \\dot{\\gamma} + \\frac{\\sigma(-\\gamma) \\left( 1 - \\sigma(-\\gamma) \\right) \\dot{\\gamma}}{\\sigma(-\\gamma)} \\sigma(\\gamma) \\\\\n",
    "    &= \\sigma(\\gamma) \\dot{\\gamma} \\left( 1 - \\sigma(\\gamma) + \\underbrace{1 - \\sigma(-\\gamma)}_{=\\sigma(\\gamma)} \\right) \\\\\n",
    "    &= \\sigma(\\gamma) \\dot{\\gamma}\n",
    "\\end{align}\n",
    "\n",
    "To keep the volatility function general, but preserve the connection with the gamma function, we derived, we can reperametrize the volatility function as follows\n",
    "\n",
    "\\begin{align}\n",
    "    g^2 = \\sigma(\\gamma) \\dot{\\gamma} \\eta\n",
    "\\end{align}\n",
    "\n",
    "where $\\eta$ is an arbitrary non-negative function of time $t$. If we set $\\eta = 1$, we will recover the Markovian volatility."
   ]
  },
  {
   "cell_type": "markdown",
   "id": "b03c5b85-669b-4ae0-9b3d-8c3d32141352",
   "metadata": {},
   "source": [
    "### Reverse process\n",
    "\n",
    "We define the reverse process through prediction $\\hat{x}(z,t)$ that we substitute into the conditional backward SDE:\n",
    "\n",
    "\\begin{align}\n",
    "    d z = \\hat{f}^B d t + g d \\bar{w}, \\quad \\text{where} \\quad \\hat{f}^B(z, t) = f^B(z, t, \\hat{x}(z,t))\n",
    "\\end{align}\n"
   ]
  },
  {
   "cell_type": "markdown",
   "id": "82a2500a9755c8e5",
   "metadata": {},
   "source": [
    "### Derivation of the ELBO\n",
    "\n",
    "We know that the ELBO of diffusion models is\n",
    "\n",
    "\\begin{align}\n",
    "    \\mathcal{L} = \\lambda_{f^B} \\left\\| f^B - \\hat{f}^B \\right\\|_2^2, \\quad \\text{where} \\quad \\lambda_{f^B} = \\frac{1}{2 g^2}\n",
    "\\end{align}\n",
    "\n",
    "For VDM, we can rewrite the $f^B$ as:\n",
    "\\begin{align}\n",
    "    f^B\n",
    "    &= f - \\frac{g^2}{2} s \\\\\n",
    "    &= \\dot{\\alpha} x + \\frac{\\dot{\\sigma}}{\\sigma} (z - \\alpha x) - \\frac{g^2}{2} \\frac{\\alpha x - z}{\\sigma^2} \\\\\n",
    "    &= \\left( \\dot{\\alpha} - \\frac{\\dot{\\sigma}}{\\sigma} \\alpha - \\frac{g^2}{2} \\frac{\\alpha}{\\sigma^2} \\right) x + \\left( \\frac{\\dot{\\sigma}}{\\sigma} + \\frac{g^2}{2} \\frac{1}{\\sigma^2} \\right) z\n",
    "\\end{align}\n",
    "\n",
    "Since the second term doesn't depend on $x$ and will cancel out in the ELBO, we can rewrite the ELBO as:\n",
    "\n",
    "\\begin{align}\n",
    "    \\mathcal{L} = \\lambda_x \\left\\| x - \\hat{x} \\right\\|_2^2\n",
    "\\end{align}\n",
    "\n",
    "Let's derive the $\\lambda_x$ coefficient\n",
    "\n",
    "\\begin{align}\n",
    "    \\lambda_x\n",
    "    &= \\frac{1}{2 g^2} \\left( \\dot{\\alpha} - \\frac{\\dot{\\sigma}}{\\sigma} \\alpha - \\frac{g^2}{2} \\frac{\\alpha}{\\sigma^2} \\right)^2 \\\\\n",
    "    &= \\frac{1}{2 g^2} \\left( \\frac{\\alpha}{2} \\frac{2 \\alpha \\dot{\\alpha}}{\\alpha^2} - \\frac{\\alpha}{2} \\frac{2 \\sigma \\dot{\\sigma}}{\\sigma^2} - \\frac{\\alpha}{2} \\frac{g^2}{\\sigma^2} \\right)^2 \\\\\n",
    "    &= \\frac{1}{2 g^2} \\frac{\\alpha^2}{2^2} \\left( \\frac{(\\alpha^2)'}{\\alpha^2} - \\frac{(\\sigma^2)'}{\\sigma^2} - \\frac{g^2}{\\sigma^2} \\right)^2 \\\\\n",
    "    &= \\frac{1}{2} \\frac{\\alpha^2}{\\sigma^2} \\frac{1}{2^2 \\dot{\\gamma} \\eta} \\left( \\frac{(\\alpha^2)'}{\\alpha^2} - \\frac{(\\sigma^2)'}{\\sigma^2} - \\frac{\\sigma^2 \\dot{\\gamma} \\eta}{\\sigma^2} \\right)^2 \\\\\n",
    "    &= \\frac{1}{2} e^{-\\gamma} \\frac{1}{2^2 \\dot{\\gamma} \\eta} \\left( \\frac{\\sigma(-\\gamma) \\left( 1 - \\sigma(-\\gamma) \\right) (-1) \\dot{\\gamma}}{\\sigma(-\\gamma)} - \\frac{\\sigma(\\gamma) \\left( 1 - \\sigma(\\gamma) \\right) \\dot{\\gamma}}{\\sigma(\\gamma)} - \\dot{\\gamma} \\eta \\right)^2 \\\\\n",
    "    &= \\frac{1}{2} e^{-\\gamma} \\frac{1}{2^2 \\dot{\\gamma} \\eta} \\left( \\big[ - \\underbrace{\\left( 1 - \\sigma(-\\gamma) \\right)}_{=\\sigma(\\gamma)} -  1 + \\sigma(\\gamma) \\big] \\dot{\\gamma} - \\dot{\\gamma} \\eta \\right)^2 \\\\\n",
    "    &= \\frac{1}{2} e^{-\\gamma} \\frac{1}{2^2 \\dot{\\gamma} \\eta} \\left( - \\dot{\\gamma} - \\dot{\\gamma} \\eta \\right)^2 \\\\\n",
    "    &= \\frac{1}{2} e^{-\\gamma} \\frac{ \\dot{\\gamma}^2 \\left( 1 + \\eta \\right)^2 }{2^2 \\dot{\\gamma} \\eta} \\\\\n",
    "    &= \\frac{1}{2} e^{-\\gamma} \\dot{\\gamma} \\frac{ \\left( 1 + \\eta \\right)^2 }{2^2 \\eta}\n",
    "\\end{align}\n",
    "\n",
    "Since nothing except the last coefficient depends on function $\\eta$, we can see, we can easily find the optimal $\\eta$. It is $\\eta = 1$. Therefore, the optimal volatility function is a Markovian volatility.\n",
    "\n",
    "We can also find a nice connection with the SNR function, when $\\eta = 1$\n",
    "\n",
    "\\begin{align}\n",
    "    SNR' = (e^{-\\gamma})' = -e^{-\\gamma} \\dot{\\gamma}, \\quad \\lambda_x = \\frac{1}{2} e^{-\\gamma} \\dot{\\gamma} = - \\frac{1}{2} SNR'\n",
    "\\end{align}"
   ]
  },
  {
   "cell_type": "markdown",
   "id": "64913d91c9d4bcac",
   "metadata": {
    "jp-MarkdownHeadingCollapsed": true
   },
   "source": [
    "### Alternative formulations of the ELBO\n",
    "\n",
    "Similarly, to formulation of the ELBO in terms of the prediction $\\hat{f}^B$ or $\\hat{x}$, we can rewrite the ELBO in terms of prediction of $\\hat{\\varepsilon}$\n",
    "\n",
    "\\begin{align}\n",
    "    x = \\frac{z - \\sigma \\varepsilon}{\\alpha}\n",
    "\\end{align}\n",
    "\n",
    "\\begin{align}\n",
    "    \\mathcal{L} = \\lambda_\\varepsilon \\left\\| \\varepsilon - \\hat{\\varepsilon} \\right\\|_2^2\n",
    "\\end{align}\n",
    "\n",
    "\\begin{align}\n",
    "    \\lambda_\\varepsilon\n",
    "    &= \\frac{1}{2} e^{-\\gamma} \\dot{\\gamma} \\frac{ \\left( 1 + \\eta \\right)^2 }{2^2 \\eta} \\frac{\\sigma^2}{\\alpha^2} \\\\\n",
    "    &= \\frac{1}{2} e^{-\\gamma} \\dot{\\gamma} \\frac{ \\left( 1 + \\eta \\right)^2 }{2^2 \\eta} e^{\\gamma} \\\\\n",
    "    &= \\frac{1}{2} \\dot{\\gamma} \\frac{ \\left( 1 + \\eta \\right)^2 }{2^2 \\eta}\n",
    "\\end{align}\n",
    "\n",
    "When $\\eta = 1$, we have\n",
    "\n",
    "\\begin{align}\n",
    "    \\log-SNR' = -\\dot{\\gamma}, \\quad \\lambda_\\varepsilon = \\frac{1}{2} \\dot{\\gamma} = - \\frac{1}{2} \\log-SNR'\n",
    "\\end{align}\n",
    "\n",
    "We can also rewrite the ELBO in terms of the prediction of $\\hat{v}$ function (see Appendix D in [this paper](https://arxiv.org/abs/2202.00512))\n",
    "\n",
    "\\begin{align}\n",
    "    x = \\alpha z - \\sigma v\n",
    "\\end{align}\n",
    "\n",
    "\\begin{align}\n",
    "    \\mathcal{L} = \\lambda_v \\left\\| v - \\hat{v} \\right\\|_2^2\n",
    "\\end{align}\n",
    "\n",
    "\\begin{align}\n",
    "    \\lambda_v\n",
    "    &= \\frac{1}{2} e^{-\\gamma} \\dot{\\gamma} \\frac{ \\left( 1 + \\eta \\right)^2 }{2^2 \\eta} \\sigma^2 \\\\\n",
    "    &= \\frac{1}{2} \\frac{e^{-\\gamma}}{1 + e^{-\\gamma}} \\dot{\\gamma} \\frac{ \\left( 1 + \\eta \\right)^2 }{2^2 \\eta} \\\\\n",
    "    &= \\frac{1}{2} \\sigma(-\\gamma) \\dot{\\gamma} \\frac{ \\left( 1 + \\eta \\right)^2 }{2^2 \\eta} \\\\\n",
    "    &= \\frac{1}{2} \\alpha^2 \\dot{\\gamma} \\frac{ \\left( 1 + \\eta \\right)^2 }{2^2 \\eta}\n",
    "\\end{align}"
   ]
  },
  {
   "cell_type": "markdown",
   "id": "b0907bbc40101c27",
   "metadata": {},
   "source": [
    "### Reweighted ELBO formulations\n",
    "\n",
    "As we know from a lot of papers, diffusion models often have better performance when trained not with the ELBO objective, but with reweighted ELBO functions like:\n",
    "\n",
    "\\begin{align}\n",
    "    \\mathcal{L}_x = \\left\\| x - \\hat{x} \\right\\|_2^2 = \\frac{1}{\\lambda_x} \\mathcal{L} \\quad \\text{or} \\quad \\mathcal{L}_\\varepsilon = \\left\\| \\varepsilon - \\hat{\\varepsilon} \\right\\|_2^2 = \\frac{1}{\\lambda_\\varepsilon} \\mathcal{L}\n",
    "\\end{align}\n",
    "\n",
    "But what should we do if the model predicts $\\hat{x}$ and we want to train a model with $\\mathcal{L}_\\varepsilon$? We can simply take the $\\mathcal{L}_x$ or $\\mathcal{L}$ and reweight it!\n",
    "\\begin{align}\n",
    "    \\mathcal{L}_\\varepsilon = \\frac{\\lambda_x}{\\lambda_\\varepsilon} \\mathcal{L}_x = \\frac{1}{\\lambda_\\varepsilon} \\mathcal{L}\n",
    "\\end{align}\n",
    "\n",
    "Importantly, the choice of the reweighting coefficient doesn't depend on the parameterization of the model. We can parameterize the model throgh prediction $\\hat{x}$, $\\hat{\\varepsilon}$, or $\\hat{v}$ with same objective function."
   ]
  },
  {
   "cell_type": "markdown",
   "id": "1d785e85329dad83",
   "metadata": {},
   "source": [
    "## Rewaighted ELBO for NFDM"
   ]
  },
  {
   "cell_type": "markdown",
   "id": "ceb40564a218c136",
   "metadata": {},
   "source": [
    "### General case\n",
    "\n",
    "In the general case, when the forward process defined as\n",
    "\n",
    "\\begin{align}\n",
    "    z = F(\\varepsilon, t, x),\n",
    "\\end{align}\n",
    "\n",
    "there is not much we can do. We can rewaight the ELBO with the $\\frac{1}{2 g^2}$ coefficient, which is a part of the ELBO, but I'm not sure if it will help. We can also try to rewaight the ELBO with the different $\\lambda$ coefficients from VDM. However, since $F$ doesn't have any connections with the SNR, I don't now what such a reweighting can give us."
   ]
  },
  {
   "cell_type": "markdown",
   "id": "f5d75c770527251f",
   "metadata": {},
   "source": [
    "### Less general case\n",
    "\n",
    "We can consider the case with a less general forward process\n",
    "\n",
    "\\begin{align}\n",
    "    z = \\alpha F(x, t) + \\sigma G(x, t) \\varepsilon\n",
    "\\end{align}\n",
    "\n",
    "This is a Gaussian forward process and it does have a connection with the SNR function. Therefore, we can reweight the ELBO with the $\\lambda$ coefficients from VDM. If $F=x$ and $G=1$, we will recover exactly the VDM case."
   ]
  },
  {
   "cell_type": "markdown",
   "id": "6329cee14dc0fd92",
   "metadata": {},
   "source": [
    "### NDM\n",
    "\n",
    "We can simplify the forward process a bit more and consider the NDM case\n",
    "\n",
    "\\begin{align}\n",
    "    z = \\alpha F(x, t) + \\sigma \\varepsilon\n",
    "\\end{align}\n",
    "\n",
    "For this case, the same logic applies. We can take the true ELBO and reweight it with the $\\lambda$ coefficients from VDM. However, in this case we can even slightly simplify the calculations. Let's write down the ELBO for the NDM:\n",
    "\n",
    "\\begin{align}\n",
    "    f^B\n",
    "    &= f - \\frac{g^2}{2} s \\\\\n",
    "    &= \\dot{\\alpha} F + \\alpha \\dot{F} + \\frac{\\dot{\\sigma}}{\\sigma} (z - \\alpha F) - \\frac{g^2}{2} \\frac{\\alpha F - z}{\\sigma^2} \\\\\n",
    "    &= \\left( \\dot{\\alpha} - \\frac{\\dot{\\sigma}}{\\sigma} \\alpha - \\frac{g^2}{2} \\frac{\\alpha}{\\sigma^2} \\right) F + \\alpha \\dot{F} + \\left( \\frac{\\dot{\\sigma}}{\\sigma} + \\frac{g^2}{2} \\frac{1}{\\sigma^2} \\right) z\n",
    "\\end{align}\n",
    "\n",
    "\\begin{align}\n",
    "    \\mathcal{L} \n",
    "    &= \\frac{1}{2 g^2} \\left\\| f^B - \\hat{f}^B \\right\\|_2^2 \\\\\n",
    "    &= \\frac{1}{2 g^2} \\left\\| \\left( \\dot{\\alpha} - \\frac{\\dot{\\sigma}}{\\sigma} \\alpha - \\frac{g^2}{2} \\frac{\\alpha}{\\sigma^2} \\right) \\left( F - \\hat{F} \\right) + \\alpha \\left( \\dot{F} - \\dot{\\hat{F}} \\right) \\right\\|_2^2 \\\\\n",
    "    &= \\frac{1}{2} \\left\\| \\frac{1}{g} \\left( \\dot{\\alpha} - \\frac{\\dot{\\sigma}}{\\sigma} \\alpha - \\frac{g^2}{2} \\frac{\\alpha}{\\sigma^2} \\right) \\left( F - \\hat{F} \\right) + \\frac{\\alpha}{g} \\left( \\dot{F} - \\dot{\\hat{F}} \\right) \\right\\|_2^2 \\\\\n",
    "    &= \\frac{1}{2} \\left\\| \\sqrt{2 \\lambda_x} \\left( F - \\hat{F} \\right) + \\frac{\\alpha}{g} \\left( \\dot{F} - \\dot{\\hat{F}} \\right) \\right\\|_2^2 \\\\\n",
    "    &= \\frac{1}{2} \\left\\| \\sqrt{2 \\lambda_x} \\left( F - \\hat{F} \\right) + \\frac{\\alpha}{\\sigma} \\frac{\\sqrt{\\dot{\\gamma}}}{\\dot{\\gamma}} \\frac{\\sqrt{\\eta}}{\\eta} \\left( \\dot{F} - \\dot{\\hat{F}} \\right) \\right\\|_2^2 \\\\\n",
    "    &= \\frac{1}{2} \\left\\| e^{-\\frac{\\gamma}{2}} \\sqrt{\\dot{\\gamma}} \\frac{ 1 + \\eta }{2} \\frac{\\sqrt{\\eta}}{\\eta} \\left( F - \\hat{F} \\right) + e^{-\\frac{\\gamma}{2}} \\frac{\\sqrt{\\dot{\\gamma}}}{\\dot{\\gamma}} \\frac{\\sqrt{\\eta}}{\\eta} \\left( \\dot{F} - \\dot{\\hat{F}} \\right) \\right\\|_2^2 \\\\\n",
    "    &= \\frac{1}{2} e^{-\\gamma} \\dot{\\gamma} \\frac{1}{\\eta} \\left\\| \\frac{ 1 + \\eta }{2} \\left( F - \\hat{F} \\right) + \\frac{1}{\\dot{\\gamma}} \\left( \\dot{F} - \\dot{\\hat{F}} \\right) \\right\\|_2^2 \\\\\n",
    "    &= \\lambda_F \\left\\| \\frac{ 1 + \\eta }{2} \\left( F - \\hat{F} \\right) + \\frac{1}{\\dot{\\gamma}} \\left( \\dot{F} - \\dot{\\hat{F}} \\right) \\right\\|_2^2, \\quad \\text{where} \\quad \\lambda_F = \\frac{1}{2} e^{-\\gamma} \\dot{\\gamma} \\frac{1}{\\eta}\n",
    "\\end{align}\n",
    "\n",
    "Importantly, $\\eta = 1$ doesn't necessarily minimises the ELBO in this case.\n",
    "\n",
    "Therefore, if we want to train the NDM with $\\mathcal{L}_x$ objective, we can do it as follows\n",
    "\n",
    "\\begin{align}\n",
    "    \\mathcal{L}_x\n",
    "    &= \\frac{1}{\\lambda_x} \\mathcal{L} \\\\\n",
    "    &= \\frac{\\lambda_F}{\\lambda_x} \\left\\| \\frac{ 1 + \\eta }{2} \\left( F - \\hat{F} \\right) + \\frac{1}{\\dot{\\gamma}} \\left( \\dot{F} - \\dot{\\hat{F}} \\right) \\right\\|_2^2 \\\\\n",
    "    &= \\frac{ \\frac{1}{2} e^{-\\gamma} \\dot{\\gamma} \\frac{1}{\\eta} }{ \\frac{1}{2} e^{-\\gamma} \\dot{\\gamma} \\frac{ \\left( 1 + \\eta \\right)^2 }{2^2 \\eta} } \\left\\| \\frac{ 1 + \\eta }{2} \\left( F - \\hat{F} \\right) + \\frac{1}{\\dot{\\gamma}} \\left( \\dot{F} - \\dot{\\hat{F}} \\right) \\right\\|_2^2 \\\\\n",
    "    &= \\frac{ 2^2 }{ \\left( 1 + \\eta \\right)^2 } \\left\\| \\frac{ 1 + \\eta }{2} \\left( F - \\hat{F} \\right) + \\frac{1}{\\dot{\\gamma}} \\left( \\dot{F} - \\dot{\\hat{F}} \\right) \\right\\|_2^2\n",
    "\\end{align}"
   ]
  },
  {
   "cell_type": "markdown",
   "id": "afe7629fb7b031f6",
   "metadata": {},
   "source": [
    "## Implementation"
   ]
  },
  {
   "cell_type": "markdown",
   "id": "9b6dd6cac4ee22d7",
   "metadata": {},
   "source": [
    "### Imports and utils"
   ]
  },
  {
   "cell_type": "code",
   "execution_count": 1,
   "id": "initial_id",
   "metadata": {
    "ExecuteTime": {
     "end_time": "2025-03-09T16:41:28.977970Z",
     "start_time": "2025-03-09T16:41:27.883631Z"
    },
    "collapsed": true,
    "jupyter": {
     "outputs_hidden": true
    }
   },
   "outputs": [],
   "source": [
    "from abc import ABC, abstractmethod\n",
    "from typing import Callable, Optional\n",
    "\n",
    "import numpy as np\n",
    "\n",
    "import torch\n",
    "from torch import nn, Tensor\n",
    "from torch.nn import functional as F\n",
    "import torch.distributions as D\n",
    "\n",
    "import matplotlib.pyplot as plt\n",
    "from tqdm import tqdm, trange"
   ]
  },
  {
   "cell_type": "code",
   "execution_count": 2,
   "id": "ec7382d8d6dbacb8",
   "metadata": {
    "ExecuteTime": {
     "end_time": "2025-03-09T16:41:28.983457Z",
     "start_time": "2025-03-09T16:41:28.980978Z"
    }
   },
   "outputs": [],
   "source": [
    "class Net(nn.Module):\n",
    "    def __init__(self, in_dim: int, out_dim: int):\n",
    "        super().__init__()\n",
    "\n",
    "        self.net = nn.Sequential(\n",
    "            nn.Linear(in_dim, 64),\n",
    "            nn.SELU(),\n",
    "            nn.Linear(64, 64),\n",
    "            nn.SELU(),\n",
    "            nn.Linear(64, 64),\n",
    "            nn.SELU(),\n",
    "            nn.Linear(64, 64),\n",
    "            nn.SELU(),\n",
    "            nn.Linear(64, out_dim),\n",
    "        )\n",
    "\n",
    "    def forward(self, t: Tensor) -> Tensor:\n",
    "        return self.net(t)"
   ]
  },
  {
   "cell_type": "code",
   "execution_count": 3,
   "id": "c4f0b3bbf8c13a70",
   "metadata": {
    "ExecuteTime": {
     "end_time": "2025-03-09T16:41:29.020566Z",
     "start_time": "2025-03-09T16:41:29.017755Z"
    }
   },
   "outputs": [],
   "source": [
    "@torch.no_grad()\n",
    "def solve_sde(\n",
    "        sde: Callable[[Tensor, Tensor], tuple[Tensor, Tensor]],\n",
    "        z: Tensor,\n",
    "        ts: float,\n",
    "        tf: float,\n",
    "        n_steps: int,\n",
    "        show_pbar: bool=False\n",
    "):\n",
    "    bs = z.shape[0]\n",
    "\n",
    "    t_steps = torch.linspace(ts, tf, n_steps + 1)\n",
    "    dt = (tf - ts) / n_steps\n",
    "    dt_2 = abs(dt) ** 0.5\n",
    "\n",
    "    path = [z]\n",
    "    pbar = tqdm if show_pbar else (lambda a: a)\n",
    "    for t in pbar(t_steps[:-1]):\n",
    "        t = t.expand(bs, 1)\n",
    "\n",
    "        f, g = sde(z, t)\n",
    "\n",
    "        w = torch.randn_like(z)\n",
    "        z = z + f * dt + g * w * dt_2\n",
    "\n",
    "        path.append(z)\n",
    "\n",
    "    return z, (t_steps, torch.stack(path))"
   ]
  },
  {
   "cell_type": "code",
   "execution_count": 4,
   "id": "25f926f2265269f6",
   "metadata": {
    "ExecuteTime": {
     "end_time": "2025-03-09T16:41:29.033860Z",
     "start_time": "2025-03-09T16:41:29.025046Z"
    }
   },
   "outputs": [],
   "source": [
    "class TimeSampler(nn.Module, ABC):\n",
    "    def __init__(self, salt_fraction: Optional[int] = None):\n",
    "        super().__init__()\n",
    "\n",
    "        self._salt_fraction = salt_fraction\n",
    "\n",
    "    @abstractmethod\n",
    "    def prob(self, t: Tensor) -> Tensor:\n",
    "        raise NotImplementedError\n",
    "\n",
    "    @abstractmethod\n",
    "    def sample(self, bs: int) -> Tensor:\n",
    "        raise NotImplementedError\n",
    "\n",
    "    def loss(self, loss: Tensor, t: Tensor) -> Tensor:\n",
    "        \"\"\"\n",
    "        In terms of minimization of the variance, this loss is not quite correct. Firstly, in lit module,\n",
    "        we detach t and loss. Theoretically we should differentiate end-to-end through loss to obtain\n",
    "        the true gradient w.r.t. parameters of the proposal distribution. However, to do this, we must\n",
    "        differentiate through the training step second time just to optimize the proposal distribution,\n",
    "        which is too expensive. Therefore, we detach t and loss and work with biased gradient. Secondly,\n",
    "        we should take into account the salting, which we don't.\n",
    "        \"\"\"\n",
    "\n",
    "        p = self.prob(t)\n",
    "\n",
    "        l2 = loss ** 2\n",
    "        p2 = p ** 2\n",
    "\n",
    "        return l2 / p2\n",
    "\n",
    "    def forward(self, bs: int) -> tuple[Tensor, Tensor]:\n",
    "        t = self.sample(bs)\n",
    "\n",
    "        dtype = t.dtype\n",
    "        device = t.device\n",
    "\n",
    "        if self._salt_fraction is not None:\n",
    "            assert bs % self._salt_fraction == 0\n",
    "\n",
    "            bs2 = bs // self._salt_fraction\n",
    "            bs1 = bs - bs2\n",
    "\n",
    "            un = D.Uniform(\n",
    "                torch.tensor([0.], dtype=dtype, device=device),\n",
    "                torch.tensor([1.], dtype=dtype, device=device)\n",
    "            )\n",
    "            u = un.sample(torch.Size((bs2,)))\n",
    "\n",
    "            t = torch.cat([t[:bs1], u], dim=0)\n",
    "\n",
    "            p = self.prob(t)\n",
    "\n",
    "            k = 1 / self._salt_fraction\n",
    "            p = p * (1 - k) + k\n",
    "        else:\n",
    "            p = self.prob(t)\n",
    "\n",
    "        return t, p\n",
    "\n",
    "\n",
    "class UniformSampler(TimeSampler):\n",
    "    def __init__(self, salt_fraction: Optional[int] = None):\n",
    "        super().__init__(salt_fraction)\n",
    "\n",
    "        self.register_buffer(\"_l\", torch.tensor(0.))\n",
    "        self.register_buffer(\"_r\", torch.tensor(1.))\n",
    "\n",
    "    @property\n",
    "    def _u(self) -> D.Uniform:\n",
    "        return D.Uniform(self._l, self._r)\n",
    "\n",
    "    def prob(self, t: Tensor) -> Tensor:\n",
    "        return self._u.log_prob(t).squeeze(dim=1).exp()\n",
    "\n",
    "    def sample(self, bs: int) -> Tensor:\n",
    "        return self._u.sample(torch.Size((bs, 1)))\n",
    "\n",
    "\n",
    "class BucketSampler(TimeSampler):\n",
    "    def __init__(self, n: int = 100, salt_fraction: Optional[int] = None):\n",
    "        super().__init__(salt_fraction)\n",
    "\n",
    "        self._logits = nn.Parameter(torch.ones(n))\n",
    "\n",
    "    @property\n",
    "    @abstractmethod\n",
    "    def _bucket_prob(self) -> Tensor:\n",
    "        raise NotImplementedError\n",
    "\n",
    "    @property\n",
    "    @abstractmethod\n",
    "    def _bucket_width(self) -> Tensor:\n",
    "        raise NotImplementedError\n",
    "\n",
    "    @property\n",
    "    def _bucket_height(self) -> Tensor:\n",
    "        return self._bucket_prob / self._bucket_width\n",
    "\n",
    "    @property\n",
    "    def _bucket_bounds(self) -> tuple[Tensor, Tensor]:\n",
    "        w = self._bucket_width\n",
    "\n",
    "        dtype = w.dtype\n",
    "        device = w.device\n",
    "\n",
    "        b_r = torch.cumsum(w, dim=0)\n",
    "        b_l = torch.cat([torch.zeros(1, dtype=dtype, device=device), b_r[:-1]])\n",
    "\n",
    "        return b_l, b_r\n",
    "\n",
    "    def prob(self, t: Tensor) -> Tensor:\n",
    "        t = t.flatten()\n",
    "\n",
    "        t, ids_t = torch.sort(t)\n",
    "        inv_ids_t = torch.argsort(ids_t)\n",
    "\n",
    "        b_l, _ = self._bucket_bounds\n",
    "\n",
    "        ids_p = torch.searchsorted(b_l, t, right=True) - 1\n",
    "\n",
    "        p = self._bucket_height\n",
    "        p = torch.index_select(p, 0, ids_p)\n",
    "        p = torch.index_select(p, 0, inv_ids_t)\n",
    "\n",
    "        return p\n",
    "\n",
    "    def sample(self, bs: int) -> Tensor:\n",
    "        b_p = self._bucket_prob\n",
    "        b_l, b_r = self._bucket_bounds\n",
    "\n",
    "        dtype = b_p.dtype\n",
    "        device = b_p.device\n",
    "\n",
    "        cat = D.Categorical(b_p)\n",
    "        ids = cat.sample(torch.Size((bs,)))\n",
    "\n",
    "        un = D.Uniform(\n",
    "            torch.tensor(0., dtype=dtype, device=device),\n",
    "            torch.tensor(1., dtype=dtype, device=device)\n",
    "        )\n",
    "        u = un.sample(torch.Size((bs,)))\n",
    "\n",
    "        t = torch.index_select(b_l, 0, ids) + torch.index_select(b_r - b_l, 0, ids) * u\n",
    "        t = t[:, None]\n",
    "\n",
    "        return t\n",
    "\n",
    "\n",
    "class UniformBucketSampler(BucketSampler):\n",
    "    @property\n",
    "    def _bucket_prob(self) -> Tensor:\n",
    "        return torch.softmax(self._logits, dim=0)\n",
    "\n",
    "    @property\n",
    "    def _bucket_width(self) -> Tensor:\n",
    "        logits = self._logits\n",
    "        dtype = logits.dtype\n",
    "        device = logits.device\n",
    "        n = logits.shape[0]\n",
    "        return torch.ones(n, dtype=dtype, device=device) / n"
   ]
  },
  {
   "cell_type": "code",
   "execution_count": 5,
   "id": "f5aff0f729531210",
   "metadata": {
    "ExecuteTime": {
     "end_time": "2025-03-09T16:41:29.039891Z",
     "start_time": "2025-03-09T16:41:29.038184Z"
    }
   },
   "outputs": [],
   "source": [
    "def viz_2d_data(data: Tensor):\n",
    "    plt.scatter(data[:, 0], data[:, 1], s=1)\n",
    "    plt.axis(\"scaled\")\n",
    "    plt.show()"
   ]
  },
  {
   "cell_type": "code",
   "execution_count": 6,
   "id": "405b96b0772b1dd6",
   "metadata": {
    "ExecuteTime": {
     "end_time": "2025-03-09T16:41:29.046732Z",
     "start_time": "2025-03-09T16:41:29.044026Z"
    }
   },
   "outputs": [],
   "source": [
    "def viz_2d_path(t_steps: Tensor, path: Tensor, n_lines: int=-1, color: str | None=None):\n",
    "    plt.figure(figsize=(12, 12))\n",
    "    plt.scatter(15 + path[0, :, 0], path[0, :, 1], s=1)\n",
    "    plt.scatter(path[-1, :, 0], path[-1, :, 1], s=1)\n",
    "    plt.plot(15 * t_steps[:, None] + path[:, :n_lines, 0],\n",
    "             path[:, :n_lines, 1],\n",
    "             color=color, alpha=0.5)\n",
    "    plt.axis(\"scaled\")\n",
    "    plt.tick_params(left=False, labelleft=False,\n",
    "                    bottom=False, labelbottom=False)\n",
    "    plt.show()"
   ]
  },
  {
   "cell_type": "code",
   "execution_count": 7,
   "id": "d217b66a74d47a1b",
   "metadata": {
    "ExecuteTime": {
     "end_time": "2025-03-09T16:41:29.053990Z",
     "start_time": "2025-03-09T16:41:29.051205Z"
    }
   },
   "outputs": [],
   "source": [
    "def gen_data(n: int):\n",
    "    scale = 4.\n",
    "    centers = torch.tensor([\n",
    "        [1, 0],\n",
    "        [-1, 0],\n",
    "        [0, 1],\n",
    "        [0, -1],\n",
    "        [1. / np.sqrt(2), 1. / np.sqrt(2)],\n",
    "        [1. / np.sqrt(2), -1. / np.sqrt(2)],\n",
    "        [-1. / np.sqrt(2), 1. / np.sqrt(2)],\n",
    "        [-1. / np.sqrt(2), -1. / np.sqrt(2)]\n",
    "    ], dtype=torch.float32)\n",
    "    centers = scale * centers\n",
    "\n",
    "    x = torch.randn(n, 2)\n",
    "    x = 0.5 * x\n",
    "\n",
    "    center_ids = torch.randint(0, 8, (n,))\n",
    "    x = x + centers[center_ids]\n",
    "\n",
    "    x = x / 2 ** 0.5\n",
    "\n",
    "    return x"
   ]
  },
  {
   "cell_type": "markdown",
   "id": "d5a62be700e3c11",
   "metadata": {},
   "source": [
    "### Forward process"
   ]
  },
  {
   "cell_type": "code",
   "execution_count": 8,
   "id": "701ffe4f521dde96",
   "metadata": {
    "ExecuteTime": {
     "end_time": "2025-03-09T16:41:29.060240Z",
     "start_time": "2025-03-09T16:41:29.058397Z"
    }
   },
   "outputs": [],
   "source": [
    "def jvp(f, x, v):\n",
    "    return torch.autograd.functional.jvp(\n",
    "        f, x, v,\n",
    "        create_graph=torch.is_grad_enabled()\n",
    "    )\n",
    "\n",
    "\n",
    "def t_dir(f, t):\n",
    "    return jvp(f, t, torch.ones_like(t))"
   ]
  },
  {
   "cell_type": "code",
   "execution_count": 9,
   "id": "4af5e7adc5483e1a",
   "metadata": {
    "ExecuteTime": {
     "end_time": "2025-03-09T16:41:29.066589Z",
     "start_time": "2025-03-09T16:41:29.064453Z"
    }
   },
   "outputs": [],
   "source": [
    "class AffineTransform(nn.Module, ABC):\n",
    "    @abstractmethod\n",
    "    def get_m_s(self, x: Tensor, t: Tensor) -> tuple[Tensor, Tensor]:\n",
    "        raise NotImplementedError\n",
    "\n",
    "    def forward(self, x: Tensor, t: Tensor) -> tuple[tuple[Tensor, Tensor], tuple[Tensor, Tensor]]:\n",
    "        def f(t_in):\n",
    "            return self.get_m_s(x, t_in)\n",
    "\n",
    "        return t_dir(f, t)"
   ]
  },
  {
   "cell_type": "code",
   "execution_count": 10,
   "id": "8ca89ed17a1ab35c",
   "metadata": {
    "ExecuteTime": {
     "end_time": "2025-03-09T16:41:29.074011Z",
     "start_time": "2025-03-09T16:41:29.071185Z"
    }
   },
   "outputs": [],
   "source": [
    "class AffineTransformID(AffineTransform):\n",
    "    @staticmethod\n",
    "    def get_m_s(x, t):\n",
    "        m = x\n",
    "        s = torch.ones_like(x)\n",
    "        return m, s\n",
    "\n",
    "    @staticmethod\n",
    "    def forward(x, t):\n",
    "        m, s = AffineTransformID.get_m_s(x, t)\n",
    "\n",
    "        dm = torch.zeros_like(x)\n",
    "        ds = torch.zeros_like(x)\n",
    "\n",
    "        return (m, s), (dm, ds)\n",
    "\n",
    "\n",
    "class AffineTransformHalfNeural(AffineTransform):\n",
    "    def __init__(self, d: int):\n",
    "        super().__init__()\n",
    "\n",
    "        self.net = Net(d + 1, d)\n",
    "\n",
    "    def get_m_s(self, x, t):\n",
    "        x_t = torch.cat([x, t], dim=1)\n",
    "        m = self.net(x_t)\n",
    "\n",
    "        m = x + t * m\n",
    "        s = torch.ones_like(x)\n",
    "\n",
    "        return m, s"
   ]
  },
  {
   "cell_type": "code",
   "execution_count": 11,
   "id": "a9dc94f03b8d5ace",
   "metadata": {
    "ExecuteTime": {
     "end_time": "2025-03-09T16:41:29.080854Z",
     "start_time": "2025-03-09T16:41:29.078374Z"
    }
   },
   "outputs": [],
   "source": [
    "class Gamma(nn.Module, ABC):\n",
    "    @staticmethod\n",
    "    def alpha_2(g):\n",
    "        return torch.sigmoid(-g)\n",
    "\n",
    "    @staticmethod\n",
    "    def sigma_2(g):\n",
    "        return torch.sigmoid(g)\n",
    "\n",
    "    @abstractmethod\n",
    "    def get_gamma(self, t: Tensor) -> Tensor:\n",
    "        raise NotImplementedError\n",
    "\n",
    "    def forward(self, t: Tensor) -> tuple[Tensor, Tensor]:\n",
    "        return t_dir(self.get_gamma, t)"
   ]
  },
  {
   "cell_type": "code",
   "execution_count": 12,
   "id": "2d2407ebefe9fcf2",
   "metadata": {
    "ExecuteTime": {
     "end_time": "2025-03-09T16:41:29.087510Z",
     "start_time": "2025-03-09T16:41:29.085433Z"
    }
   },
   "outputs": [],
   "source": [
    "class GammaLinear(Gamma):\n",
    "    @staticmethod\n",
    "    def get_gamma(t):\n",
    "        return -10 + 20 * t\n",
    "\n",
    "    @staticmethod\n",
    "    def forward(t):\n",
    "        g = GammaLinear.get_gamma(t)\n",
    "        dg = torch.ones_like(t) * 20\n",
    "        return g, dg"
   ]
  },
  {
   "cell_type": "code",
   "execution_count": 13,
   "id": "57b352085eead962",
   "metadata": {
    "ExecuteTime": {
     "end_time": "2025-03-09T16:41:29.095591Z",
     "start_time": "2025-03-09T16:41:29.091922Z"
    }
   },
   "outputs": [],
   "source": [
    "class PosLinear(nn.Linear):\n",
    "    def __init__(self, *args, **kwargs):\n",
    "        super().__init__(*args, **kwargs)\n",
    "\n",
    "        self.sp = nn.Softplus()\n",
    "\n",
    "    def forward(self, x: Tensor) -> Tensor:\n",
    "        weight = self.sp(self.weight)\n",
    "        bias = self.bias\n",
    "        return F.linear(x, weight, bias)\n",
    "\n",
    "\n",
    "class GammaVDM(Gamma):\n",
    "    def __init__(self):\n",
    "        super().__init__()\n",
    "\n",
    "        self.fc1 = PosLinear(1, 1)\n",
    "        self.fc2 = PosLinear(1, 1024)\n",
    "        self.fc3 = PosLinear(1024, 1)\n",
    "\n",
    "    def get_unnorm_gamma(self, x):\n",
    "        x = self.fc1(x)\n",
    "\n",
    "        y = self.fc2(x)\n",
    "        y = torch.sigmoid(y)\n",
    "        y = self.fc3(y)\n",
    "\n",
    "        return x + y\n",
    "\n",
    "    def get_gamma(self, t):\n",
    "        x_0 = torch.zeros(1, 1)\n",
    "        x_1 = torch.ones(1, 1)\n",
    "        y_0 = torch.ones(1, 1) * (-10)\n",
    "        y_1 = torch.ones(1, 1) * 10\n",
    "        y_gap = y_1 - y_0\n",
    "\n",
    "        x_adj = torch.cat([x_0, x_1, t], dim=0)\n",
    "        y_adj = self.get_unnorm_gamma(x_adj)\n",
    "        yo_0, yo_1, yo = y_adj[:1], y_adj[1:2], y_adj[2:]\n",
    "\n",
    "        y = y_0 + (y_1 - y_0) * (yo - yo_0) / (yo_1 - yo_0)\n",
    "\n",
    "        return y"
   ]
  },
  {
   "cell_type": "code",
   "execution_count": 14,
   "id": "5bb1ba44e681c730",
   "metadata": {
    "ExecuteTime": {
     "end_time": "2025-03-09T16:41:29.101414Z",
     "start_time": "2025-03-09T16:41:29.099677Z"
    }
   },
   "outputs": [],
   "source": [
    "class VolatilityEta(nn.Module, ABC):\n",
    "    @abstractmethod\n",
    "    def forward(self, t: Tensor) -> Tensor:\n",
    "        raise NotImplementedError"
   ]
  },
  {
   "cell_type": "code",
   "execution_count": 15,
   "id": "e2a2701951ed0b8c",
   "metadata": {
    "ExecuteTime": {
     "end_time": "2025-03-09T16:41:29.108064Z",
     "start_time": "2025-03-09T16:41:29.105751Z"
    }
   },
   "outputs": [],
   "source": [
    "class VolatilityEtaOne(nn.Module):\n",
    "    def forward(self, t):\n",
    "        return torch.ones_like(t)\n",
    "\n",
    "\n",
    "class VolatilityEtaNeural(nn.Module, ABC):\n",
    "    def __init__(self):\n",
    "        super().__init__()\n",
    "\n",
    "        self.net = Net(1, 1)\n",
    "        self.sp = nn.Softplus()\n",
    "\n",
    "    def forward(self, t):\n",
    "        return self.sp(self.net(t))"
   ]
  },
  {
   "cell_type": "markdown",
   "id": "eab22518a1370b71",
   "metadata": {},
   "source": [
    "### Reverse process"
   ]
  },
  {
   "cell_type": "code",
   "execution_count": 16,
   "id": "eabb9e1ff1eaabef",
   "metadata": {
    "ExecuteTime": {
     "end_time": "2025-03-09T16:41:29.114545Z",
     "start_time": "2025-03-09T16:41:29.112180Z"
    }
   },
   "outputs": [],
   "source": [
    "class Predictor(nn.Module):\n",
    "    def __init__(self, d: int):\n",
    "        super().__init__()\n",
    "\n",
    "        self.net = Net(d + 1, d)\n",
    "\n",
    "    def forward(self, z, t):\n",
    "        z_t = torch.cat([z, t], dim=1)\n",
    "        x = self.net(z_t)\n",
    "\n",
    "        x = (1 - t) * z + (t + 0.01) * x\n",
    "\n",
    "        return x"
   ]
  },
  {
   "cell_type": "markdown",
   "id": "7416548974191c4d",
   "metadata": {},
   "source": [
    "### Neural diffusion"
   ]
  },
  {
   "cell_type": "code",
   "execution_count": 17,
   "id": "de00a7a5911f1cba",
   "metadata": {
    "ExecuteTime": {
     "end_time": "2025-03-09T16:41:29.122222Z",
     "start_time": "2025-03-09T16:41:29.118767Z"
    }
   },
   "outputs": [],
   "source": [
    "class NeuralDiffusion(nn.Module):\n",
    "    def __init__(self, transform: AffineTransform, gamma: Gamma, vol_eta: VolatilityEta, pred: Predictor):\n",
    "        super().__init__()\n",
    "\n",
    "        self.transform = transform\n",
    "        self.gamma = gamma\n",
    "        self.vol_eta = vol_eta\n",
    "        self.pred = pred\n",
    "\n",
    "    def forward(self, x: Tensor, t: Tensor):\n",
    "        eps = torch.randn_like(x)\n",
    "\n",
    "        gamma, d_gamma = self.gamma(t)\n",
    "        alpha = self.gamma.alpha_2(gamma) ** 0.5\n",
    "        sigma = self.gamma.sigma_2(gamma) ** 0.5\n",
    "\n",
    "        (m, _), (d_m, _) = self.transform(x, t)\n",
    "\n",
    "        eta = self.vol_eta(t)\n",
    "\n",
    "        z = alpha * m + sigma * eps\n",
    "\n",
    "        x_ = self.pred(z, t)\n",
    "\n",
    "        (m_, _), (d_m_, _) = self.transform(x_, t)\n",
    "\n",
    "        # ELBO weighting\n",
    "        lmbd = 0.5 * torch.exp(-gamma) * d_gamma / eta\n",
    "\n",
    "        # L_x weighting\n",
    "        # lmbd = 4 / (1 + eta) ** 2\n",
    "        one_over_dgamma = torch.clamp(1 / d_gamma, max=10000)\n",
    "\n",
    "        loss = (1 + eta) / 2 * (m - m_) + 1 / d_gamma * (d_m - d_m_)\n",
    "        loss = loss ** 2\n",
    "\n",
    "        # Stabilises training\n",
    "        loss_x = (1 + eta) ** 2 / 4 * (x - x_) ** 2\n",
    "        loss = 0.5 * loss + 0.5 * loss_x\n",
    "\n",
    "        loss = lmbd * loss\n",
    "        loss = loss.sum(dim=1)\n",
    "\n",
    "        return loss"
   ]
  },
  {
   "cell_type": "markdown",
   "id": "ff5bae11e352252f",
   "metadata": {},
   "source": [
    "### Training"
   ]
  },
  {
   "cell_type": "code",
   "execution_count": null,
   "id": "f391274f4f43b1ff",
   "metadata": {
    "ExecuteTime": {
     "end_time": "2025-03-09T16:41:29.261219Z",
     "start_time": "2025-03-09T16:41:29.126692Z"
    }
   },
   "outputs": [],
   "source": [
    "data_sample = gen_data(2 ** 12)\n",
    "\n",
    "viz_2d_data(data_sample)"
   ]
  },
  {
   "cell_type": "code",
   "execution_count": 19,
   "id": "8d977274d1d3cb88",
   "metadata": {
    "ExecuteTime": {
     "end_time": "2025-03-09T16:41:29.270692Z",
     "start_time": "2025-03-09T16:41:29.267685Z"
    }
   },
   "outputs": [],
   "source": [
    "def train(model, time_sampler, gen_data_f):\n",
    "    iter = 10 ** 5\n",
    "    bs = 2 ** 10\n",
    "\n",
    "    optim = torch.optim.Adam([*model.parameters(), *time_sampler.parameters()], lr=1e-3)\n",
    "\n",
    "    pbar = trange(iter)\n",
    "    for i in pbar:\n",
    "        x = gen_data_f(bs)\n",
    "\n",
    "        t, p = time_sampler(bs=bs)\n",
    "        t, p = t.detach(), p.detach()\n",
    "\n",
    "        loss = model(x, t)\n",
    "        loss = loss / p + time_sampler.loss(loss.detach(), t)\n",
    "\n",
    "        # plt.scatter(t[:, 0], loss.detach().numpy(), s=1)\n",
    "        # plt.scatter(t[:, 0], p.detach().numpy(), s=1)\n",
    "        # plt.show()\n",
    "\n",
    "        loss = loss.mean()\n",
    "\n",
    "        if (i + 1) % 100 == 0:\n",
    "            pbar.set_description(f\"{loss.item():.4f}\")\n",
    "\n",
    "        optim.zero_grad()\n",
    "        loss.backward()\n",
    "        optim.step()"
   ]
  },
  {
   "cell_type": "code",
   "execution_count": null,
   "id": "a770bbf8afcc9da0",
   "metadata": {
    "ExecuteTime": {
     "end_time": "2025-03-09T16:47:36.632794Z",
     "start_time": "2025-03-09T16:41:29.282810Z"
    }
   },
   "outputs": [],
   "source": [
    "transform = AffineTransformID()\n",
    "#transform = AffineTransformHalfNeural(d=2)\n",
    "\n",
    "# gamma = GammaLinear()\n",
    "gamma = GammaVDM()\n",
    "\n",
    "vol_eta = VolatilityEtaOne()\n",
    "# vol_eta = VolatilityEtaNeural()\n",
    "\n",
    "pred = Predictor(d=2)\n",
    "\n",
    "ndm = NeuralDiffusion(transform, gamma, vol_eta, pred)\n",
    "\n",
    "time_sampler = UniformBucketSampler()\n",
    "\n",
    "train(model=ndm, time_sampler=time_sampler, gen_data_f=gen_data)"
   ]
  },
  {
   "cell_type": "markdown",
   "id": "4cf8700620e4e064",
   "metadata": {},
   "source": [
    "### Visualisation"
   ]
  },
  {
   "cell_type": "code",
   "execution_count": null,
   "id": "feb8a518fd897855",
   "metadata": {
    "ExecuteTime": {
     "end_time": "2025-03-09T16:47:50.212269Z",
     "start_time": "2025-03-09T16:47:45.548537Z"
    }
   },
   "outputs": [],
   "source": [
    "bs = 2 ** 12\n",
    "\n",
    "z = torch.randn(bs, 2)\n",
    "\n",
    "\n",
    "def sde(z_in, t_in):\n",
    "    gmm, d_gmm = gamma(t_in)\n",
    "    alpha_2 = gamma.alpha_2(gmm)\n",
    "    sigma_2 = gamma.sigma_2(gmm)\n",
    "    alpha = alpha_2 ** 0.5\n",
    "\n",
    "    eta = vol_eta(t_in)\n",
    "\n",
    "    g = (sigma_2 * d_gmm * eta) ** 0.5\n",
    "\n",
    "    x_ = pred(z_in, t_in)\n",
    "\n",
    "    (m_, _), (d_m_, _) = transform(x_, t_in)\n",
    "\n",
    "    drift = -alpha * d_gmm * (1 + eta) / 2 * m_ + \\\n",
    "            alpha * d_m_ + \\\n",
    "            0.5 * d_gmm * (alpha_2 + eta) * z_in\n",
    "\n",
    "    return drift, g\n",
    "\n",
    "\n",
    "_, (t_steps, path) = solve_sde(sde=sde, z=z, ts=1, tf=0, n_steps=300)\n",
    "\n",
    "viz_2d_path(t_steps, path, n_lines=16, color=\"blue\")"
   ]
  },
  {
   "cell_type": "code",
   "execution_count": null,
   "id": "7bf01e04ee671537",
   "metadata": {
    "ExecuteTime": {
     "end_time": "2025-03-09T16:47:50.335562Z",
     "start_time": "2025-03-09T16:47:50.236564Z"
    }
   },
   "outputs": [],
   "source": [
    "with torch.no_grad():\n",
    "    t = torch.linspace(0, 1, 300)[:, None]\n",
    "\n",
    "    g, _ = gamma(t)\n",
    "\n",
    "    plt.plot(g)\n",
    "    plt.show()"
   ]
  }
 ],
 "metadata": {
  "kernelspec": {
   "display_name": "Python 3 (ipykernel)",
   "language": "python",
   "name": "python3"
  },
  "language_info": {
   "codemirror_mode": {
    "name": "ipython",
    "version": 3
   },
   "file_extension": ".py",
   "mimetype": "text/x-python",
   "name": "python",
   "nbconvert_exporter": "python",
   "pygments_lexer": "ipython3",
   "version": "3.10.9"
  }
 },
 "nbformat": 4,
 "nbformat_minor": 5
}
